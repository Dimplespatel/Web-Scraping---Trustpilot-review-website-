{
 "cells": [
  {
   "cell_type": "markdown",
   "id": "0308b23f",
   "metadata": {},
   "source": [
    "# Scraping Companies/Brands for Categories on Trustpilot \n",
    "#### (Trustpilot is a review platform)"
   ]
  },
  {
   "cell_type": "markdown",
   "id": "40ea4e2b",
   "metadata": {},
   "source": [
    "Here are the steps we'll follow:\n",
    "\n",
    "- I going to scrape website - https://www.trustpilot.com/categories\n",
    "- Will get a list of categories. For each category, will get category name and category page URL\n",
    "- For each category, will get the top 20 company reviews and other information from the category page\n",
    "- For each company, will grab the company name, star rating, location and tags\n",
    "- For each category will create a CSV file in the following format:\n",
    "\n",
    "``\n",
    "Company Name,Stars,Location,Tags\n",
    "Boomerang Pet ID Tags,5.0,\"Pismo Beach, United   States\",Pet Supply Store\n",
    "``"
   ]
  },
  {
   "cell_type": "markdown",
   "id": "da7e3831",
   "metadata": {},
   "source": [
    "## Scrape the list of categories\n",
    "\n",
    "How to do?\n",
    "\n",
    "- use requests to download the page\n",
    "- use BS4 to parse and extract information\n",
    "- convert to a Pandas dataframe\n",
    "\n",
    "Let's write a function to download the page."
   ]
  },
  {
   "cell_type": "code",
   "execution_count": 1,
   "id": "e1adca2c",
   "metadata": {},
   "outputs": [],
   "source": [
    "import requests"
   ]
  },
  {
   "cell_type": "code",
   "execution_count": 2,
   "id": "db5f5bff",
   "metadata": {},
   "outputs": [],
   "source": [
    "category_url = 'https://www.trustpilot.com/categories'"
   ]
  },
  {
   "cell_type": "code",
   "execution_count": 3,
   "id": "7b345fb7",
   "metadata": {},
   "outputs": [],
   "source": [
    "response = requests.get(category_url)"
   ]
  },
  {
   "cell_type": "code",
   "execution_count": 4,
   "id": "5c71b203",
   "metadata": {},
   "outputs": [
    {
     "data": {
      "text/plain": [
       "200"
      ]
     },
     "execution_count": 4,
     "metadata": {},
     "output_type": "execute_result"
    }
   ],
   "source": [
    "response.status_code"
   ]
  },
  {
   "cell_type": "code",
   "execution_count": 5,
   "id": "863bbaf0",
   "metadata": {},
   "outputs": [
    {
     "data": {
      "text/plain": [
       "353199"
      ]
     },
     "execution_count": 5,
     "metadata": {},
     "output_type": "execute_result"
    }
   ],
   "source": [
    "len(response.text)"
   ]
  },
  {
   "cell_type": "code",
   "execution_count": 6,
   "id": "2142f4d6",
   "metadata": {},
   "outputs": [],
   "source": [
    "from bs4 import BeautifulSoup"
   ]
  },
  {
   "cell_type": "code",
   "execution_count": 7,
   "id": "e7d44301",
   "metadata": {},
   "outputs": [],
   "source": [
    "doc = BeautifulSoup(response.text, 'html.parser')"
   ]
  },
  {
   "cell_type": "code",
   "execution_count": 8,
   "id": "bd3b5ea9",
   "metadata": {},
   "outputs": [
    {
     "data": {
      "text/plain": [
       "bs4.BeautifulSoup"
      ]
     },
     "execution_count": 8,
     "metadata": {},
     "output_type": "execute_result"
    }
   ],
   "source": [
    "type(doc)"
   ]
  },
  {
   "cell_type": "code",
   "execution_count": 9,
   "id": "37b3bf6b",
   "metadata": {},
   "outputs": [],
   "source": [
    "def get_category_names(doc):\n",
    "    a_class = 'typography_heading-xs__jSwUz typography_appearance-default__AAY17 styles_headingDisplayName__jetQq'\n",
    "    category_name_ = doc.find_all('h2', {'class': a_class})\n",
    "    category_name=[]\n",
    "    for name in category_name_:\n",
    "        category_name.append(name.text)  \n",
    "    return category_name"
   ]
  },
  {
   "cell_type": "code",
   "execution_count": 10,
   "id": "099237d9",
   "metadata": {},
   "outputs": [],
   "source": [
    "categories_names = get_category_names(doc)"
   ]
  },
  {
   "cell_type": "code",
   "execution_count": 11,
   "id": "fb77778c",
   "metadata": {},
   "outputs": [
    {
     "data": {
      "text/plain": [
       "22"
      ]
     },
     "execution_count": 11,
     "metadata": {},
     "output_type": "execute_result"
    }
   ],
   "source": [
    "len(categories_names)"
   ]
  },
  {
   "cell_type": "code",
   "execution_count": 12,
   "id": "a610c29f",
   "metadata": {},
   "outputs": [
    {
     "data": {
      "text/plain": [
       "['Animals & Pets',\n",
       " 'Beauty & Well-being',\n",
       " 'Business Services',\n",
       " 'Construction & Manufacturing',\n",
       " 'Education & Training']"
      ]
     },
     "execution_count": 12,
     "metadata": {},
     "output_type": "execute_result"
    }
   ],
   "source": [
    "categories_names[:5]"
   ]
  },
  {
   "cell_type": "markdown",
   "id": "52f32705",
   "metadata": {},
   "source": [
    "Similarly we have defined functions for URLs."
   ]
  },
  {
   "cell_type": "code",
   "execution_count": 13,
   "id": "f5fb858f",
   "metadata": {},
   "outputs": [],
   "source": [
    "def get_category_urls(doc):\n",
    "    category_link_ = doc.find_all('a', {'class': 'link_internal__7XN06 link_wrapper__5ZJEx styles_headingLink__fl2dp'})\n",
    "    category_urls=[]\n",
    "    base_url = \"https://www.trustpilot.com\"\n",
    "    for category_url in category_link_:\n",
    "        category_urls.append(base_url + category_url['href'])  \n",
    "    return category_urls"
   ]
  },
  {
   "cell_type": "code",
   "execution_count": 14,
   "id": "1ea436f5",
   "metadata": {},
   "outputs": [],
   "source": [
    "categories_urls = get_category_urls(doc)"
   ]
  },
  {
   "cell_type": "code",
   "execution_count": 15,
   "id": "91ddf859",
   "metadata": {},
   "outputs": [
    {
     "data": {
      "text/plain": [
       "['https://www.trustpilot.com/categories/animals_pets',\n",
       " 'https://www.trustpilot.com/categories/beauty_wellbeing',\n",
       " 'https://www.trustpilot.com/categories/business_services',\n",
       " 'https://www.trustpilot.com/categories/construction_manufactoring',\n",
       " 'https://www.trustpilot.com/categories/education_training']"
      ]
     },
     "execution_count": 15,
     "metadata": {},
     "output_type": "execute_result"
    }
   ],
   "source": [
    "categories_urls[:5]"
   ]
  },
  {
   "cell_type": "markdown",
   "id": "eb2e87e9",
   "metadata": {},
   "source": [
    "Let's put this all together into a single function"
   ]
  },
  {
   "cell_type": "code",
   "execution_count": 16,
   "id": "5ac06fa4",
   "metadata": {},
   "outputs": [],
   "source": [
    "import pandas as pd\n",
    "\n",
    "def scrap_categorys():\n",
    "    category_url = 'https://www.trustpilot.com/categories'\n",
    "    response = requests.get(category_url)\n",
    "    if response.status_code != 200:\n",
    "        raise Exception('Failed to load page {}'.format(category_url))\n",
    "    category_dict= {\n",
    "    'Category': get_category_names(doc),\n",
    "    'Category_URL' : get_category_urls(doc)\n",
    "    }\n",
    "    return pd.DataFrame(category_dict)"
   ]
  },
  {
   "cell_type": "code",
   "execution_count": 17,
   "id": "88783645",
   "metadata": {},
   "outputs": [
    {
     "data": {
      "text/html": [
       "<div>\n",
       "<style scoped>\n",
       "    .dataframe tbody tr th:only-of-type {\n",
       "        vertical-align: middle;\n",
       "    }\n",
       "\n",
       "    .dataframe tbody tr th {\n",
       "        vertical-align: top;\n",
       "    }\n",
       "\n",
       "    .dataframe thead th {\n",
       "        text-align: right;\n",
       "    }\n",
       "</style>\n",
       "<table border=\"1\" class=\"dataframe\">\n",
       "  <thead>\n",
       "    <tr style=\"text-align: right;\">\n",
       "      <th></th>\n",
       "      <th>Category</th>\n",
       "      <th>Category_URL</th>\n",
       "    </tr>\n",
       "  </thead>\n",
       "  <tbody>\n",
       "    <tr>\n",
       "      <th>0</th>\n",
       "      <td>Animals &amp; Pets</td>\n",
       "      <td>https://www.trustpilot.com/categories/animals_...</td>\n",
       "    </tr>\n",
       "    <tr>\n",
       "      <th>1</th>\n",
       "      <td>Beauty &amp; Well-being</td>\n",
       "      <td>https://www.trustpilot.com/categories/beauty_w...</td>\n",
       "    </tr>\n",
       "    <tr>\n",
       "      <th>2</th>\n",
       "      <td>Business Services</td>\n",
       "      <td>https://www.trustpilot.com/categories/business...</td>\n",
       "    </tr>\n",
       "    <tr>\n",
       "      <th>3</th>\n",
       "      <td>Construction &amp; Manufacturing</td>\n",
       "      <td>https://www.trustpilot.com/categories/construc...</td>\n",
       "    </tr>\n",
       "    <tr>\n",
       "      <th>4</th>\n",
       "      <td>Education &amp; Training</td>\n",
       "      <td>https://www.trustpilot.com/categories/educatio...</td>\n",
       "    </tr>\n",
       "    <tr>\n",
       "      <th>5</th>\n",
       "      <td>Electronics &amp; Technology</td>\n",
       "      <td>https://www.trustpilot.com/categories/electron...</td>\n",
       "    </tr>\n",
       "    <tr>\n",
       "      <th>6</th>\n",
       "      <td>Events &amp; Entertainment</td>\n",
       "      <td>https://www.trustpilot.com/categories/events_e...</td>\n",
       "    </tr>\n",
       "    <tr>\n",
       "      <th>7</th>\n",
       "      <td>Food, Beverages &amp; Tobacco</td>\n",
       "      <td>https://www.trustpilot.com/categories/food_bev...</td>\n",
       "    </tr>\n",
       "    <tr>\n",
       "      <th>8</th>\n",
       "      <td>Health &amp; Medical</td>\n",
       "      <td>https://www.trustpilot.com/categories/health_m...</td>\n",
       "    </tr>\n",
       "    <tr>\n",
       "      <th>9</th>\n",
       "      <td>Hobbies &amp; Crafts</td>\n",
       "      <td>https://www.trustpilot.com/categories/hobbies_...</td>\n",
       "    </tr>\n",
       "    <tr>\n",
       "      <th>10</th>\n",
       "      <td>Home &amp; Garden</td>\n",
       "      <td>https://www.trustpilot.com/categories/home_garden</td>\n",
       "    </tr>\n",
       "    <tr>\n",
       "      <th>11</th>\n",
       "      <td>Home Services</td>\n",
       "      <td>https://www.trustpilot.com/categories/home_ser...</td>\n",
       "    </tr>\n",
       "    <tr>\n",
       "      <th>12</th>\n",
       "      <td>Legal Services &amp; Government</td>\n",
       "      <td>https://www.trustpilot.com/categories/legal_se...</td>\n",
       "    </tr>\n",
       "    <tr>\n",
       "      <th>13</th>\n",
       "      <td>Media &amp; Publishing</td>\n",
       "      <td>https://www.trustpilot.com/categories/media_pu...</td>\n",
       "    </tr>\n",
       "    <tr>\n",
       "      <th>14</th>\n",
       "      <td>Money &amp; Insurance</td>\n",
       "      <td>https://www.trustpilot.com/categories/money_in...</td>\n",
       "    </tr>\n",
       "    <tr>\n",
       "      <th>15</th>\n",
       "      <td>Public &amp; Local Services</td>\n",
       "      <td>https://www.trustpilot.com/categories/public_l...</td>\n",
       "    </tr>\n",
       "    <tr>\n",
       "      <th>16</th>\n",
       "      <td>Restaurants &amp; Bars</td>\n",
       "      <td>https://www.trustpilot.com/categories/restaura...</td>\n",
       "    </tr>\n",
       "    <tr>\n",
       "      <th>17</th>\n",
       "      <td>Shopping &amp; Fashion</td>\n",
       "      <td>https://www.trustpilot.com/categories/shopping...</td>\n",
       "    </tr>\n",
       "    <tr>\n",
       "      <th>18</th>\n",
       "      <td>Sports</td>\n",
       "      <td>https://www.trustpilot.com/categories/sports</td>\n",
       "    </tr>\n",
       "    <tr>\n",
       "      <th>19</th>\n",
       "      <td>Travel &amp; Vacation</td>\n",
       "      <td>https://www.trustpilot.com/categories/travel_v...</td>\n",
       "    </tr>\n",
       "    <tr>\n",
       "      <th>20</th>\n",
       "      <td>Utilities</td>\n",
       "      <td>https://www.trustpilot.com/categories/utilities</td>\n",
       "    </tr>\n",
       "    <tr>\n",
       "      <th>21</th>\n",
       "      <td>Vehicles &amp; Transportation</td>\n",
       "      <td>https://www.trustpilot.com/categories/vehicles...</td>\n",
       "    </tr>\n",
       "  </tbody>\n",
       "</table>\n",
       "</div>"
      ],
      "text/plain": [
       "                        Category  \\\n",
       "0                 Animals & Pets   \n",
       "1            Beauty & Well-being   \n",
       "2              Business Services   \n",
       "3   Construction & Manufacturing   \n",
       "4           Education & Training   \n",
       "5       Electronics & Technology   \n",
       "6         Events & Entertainment   \n",
       "7      Food, Beverages & Tobacco   \n",
       "8               Health & Medical   \n",
       "9               Hobbies & Crafts   \n",
       "10                 Home & Garden   \n",
       "11                 Home Services   \n",
       "12   Legal Services & Government   \n",
       "13            Media & Publishing   \n",
       "14             Money & Insurance   \n",
       "15       Public & Local Services   \n",
       "16            Restaurants & Bars   \n",
       "17            Shopping & Fashion   \n",
       "18                        Sports   \n",
       "19             Travel & Vacation   \n",
       "20                     Utilities   \n",
       "21     Vehicles & Transportation   \n",
       "\n",
       "                                         Category_URL  \n",
       "0   https://www.trustpilot.com/categories/animals_...  \n",
       "1   https://www.trustpilot.com/categories/beauty_w...  \n",
       "2   https://www.trustpilot.com/categories/business...  \n",
       "3   https://www.trustpilot.com/categories/construc...  \n",
       "4   https://www.trustpilot.com/categories/educatio...  \n",
       "5   https://www.trustpilot.com/categories/electron...  \n",
       "6   https://www.trustpilot.com/categories/events_e...  \n",
       "7   https://www.trustpilot.com/categories/food_bev...  \n",
       "8   https://www.trustpilot.com/categories/health_m...  \n",
       "9   https://www.trustpilot.com/categories/hobbies_...  \n",
       "10  https://www.trustpilot.com/categories/home_garden  \n",
       "11  https://www.trustpilot.com/categories/home_ser...  \n",
       "12  https://www.trustpilot.com/categories/legal_se...  \n",
       "13  https://www.trustpilot.com/categories/media_pu...  \n",
       "14  https://www.trustpilot.com/categories/money_in...  \n",
       "15  https://www.trustpilot.com/categories/public_l...  \n",
       "16  https://www.trustpilot.com/categories/restaura...  \n",
       "17  https://www.trustpilot.com/categories/shopping...  \n",
       "18       https://www.trustpilot.com/categories/sports  \n",
       "19  https://www.trustpilot.com/categories/travel_v...  \n",
       "20    https://www.trustpilot.com/categories/utilities  \n",
       "21  https://www.trustpilot.com/categories/vehicles...  "
      ]
     },
     "execution_count": 17,
     "metadata": {},
     "output_type": "execute_result"
    }
   ],
   "source": [
    "scrap_categorys()"
   ]
  },
  {
   "cell_type": "markdown",
   "id": "2bedcaa2",
   "metadata": {},
   "source": [
    "### Get the top 20 company reviews & information from a category page"
   ]
  },
  {
   "cell_type": "code",
   "execution_count": 18,
   "id": "baee2e50",
   "metadata": {},
   "outputs": [],
   "source": [
    "import os\n",
    "import pandas as pd\n",
    "\n",
    "def get_category(category_urls):\n",
    "    response = requests.get(category_urls)\n",
    "    if response.status_code != 200:\n",
    "        raise Exception('Failed to load page {}'.format(category_page_url))\n",
    "    category_doc = BeautifulSoup(response.text, 'html.parser')\n",
    "    return category_doc\n",
    "     \n",
    "def get_company_info(company_name, stars_, location_, tag_):\n",
    "    #returns all the required info about company\n",
    "    name = company_name\n",
    "    star = parse_star(stars_.text)\n",
    "    location =location_ \n",
    "    tags  = tag_\n",
    "    return name,star,location, tags\n",
    "\n",
    "def get_category_info(category_doc):\n",
    "    p_tag1 = 'typography_heading-xs__jSwUz typography_appearance-default__AAY17 styles_displayName__GOhL2'\n",
    "    company_name = category_doc.find_all('p',{'class': p_tag1})\n",
    "    \n",
    "    b_class = 'typography_body-m__xgxZ_ typography_appearance-subtle__8_H2l styles_trustScore__8emxJ'\n",
    "    stars_ = category_doc.find_all('span',{'class': b_class})\n",
    "    \n",
    "    c_class = 'typography_body-m__xgxZ_ typography_appearance-subtle__8_H2l styles_metadataItem__Qn_Q2 styles_location__ILZb0'\n",
    "    location_ = category_doc.find_all('span',{'class': c_class})\n",
    "    \n",
    "    d_class = 'styles_wrapper___E6__ styles_categoriesLabels__FiWQ4 styles_desktop__U5iWw'\n",
    "    tag_ = category_doc.find_all('div',{'class': d_class})\n",
    "    \n",
    "    company_dict = {'Name' : [],'Stars' : [],'Location' : [],'Tags' : []}  \n",
    "\n",
    "    for i in range(len(location_)):\n",
    "        com_info = get_company_info(company_name[i].text,stars_[i],location_[i].text, tag_[i].text)\n",
    "        company_dict['Name'].append(com_info[0])\n",
    "        company_dict['Stars'].append(com_info[1])\n",
    "        company_dict['Location'].append(com_info[2])\n",
    "        company_dict['Tags'].append(com_info[3])\n",
    "    \n",
    "    return pd.DataFrame(company_dict)\n",
    "\n",
    "def scrape_category(category_urls, path):\n",
    "    if os.path.exists(path):\n",
    "        print(\"The file {} already exists. Skipping...\".format(path))\n",
    "        return\n",
    "    \n",
    "    category_df = get_category_info(get_category(category_urls))\n",
    "    category_df.to_csv(path, index = None)"
   ]
  },
  {
   "cell_type": "code",
   "execution_count": 19,
   "id": "8c51dad6",
   "metadata": {},
   "outputs": [],
   "source": [
    "def parse_star(stars_str):\n",
    "    if stars_str[:11] == 'TrustScore ':\n",
    "        return float(stars_str[11:])\n",
    "    return float(stars_str)"
   ]
  },
  {
   "cell_type": "markdown",
   "id": "0d890a74",
   "metadata": {},
   "source": [
    "### Putting it all together\n",
    "- We have a funciton to get the list of categories\n",
    "- We have a function to create a CSV file for scraped companies from a category page\n",
    "- Let's create a function to put them together"
   ]
  },
  {
   "cell_type": "code",
   "execution_count": 26,
   "id": "10e09363",
   "metadata": {},
   "outputs": [],
   "source": [
    "def scrap_category_company():\n",
    "    print('Scraping list of categories')\n",
    "    company_df = scrap_categorys()\n",
    "    \n",
    "    ## Create a folder\n",
    "    os.makedirs('data', exist_ok=True)\n",
    "    for index, row in company_df.iterrows():\n",
    "        print('Scraping companies for \"{}\"'.format(row['Category']))\n",
    "        scrape_category(row['Category_URL'], 'data/{}.csv'. format(row['Category']))"
   ]
  },
  {
   "cell_type": "code",
   "execution_count": 27,
   "id": "93afbe26",
   "metadata": {},
   "outputs": [
    {
     "name": "stdout",
     "output_type": "stream",
     "text": [
      "Scraping list of categories\n",
      "Scraping companies for \"Animals & Pets\"\n",
      "Scraping companies for \"Beauty & Well-being\"\n",
      "Scraping companies for \"Business Services\"\n",
      "Scraping companies for \"Construction & Manufacturing\"\n",
      "Scraping companies for \"Education & Training\"\n",
      "Scraping companies for \"Electronics & Technology\"\n",
      "Scraping companies for \"Events & Entertainment\"\n",
      "Scraping companies for \"Food, Beverages & Tobacco\"\n",
      "Scraping companies for \"Health & Medical\"\n",
      "Scraping companies for \"Hobbies & Crafts\"\n",
      "Scraping companies for \"Home & Garden\"\n",
      "Scraping companies for \"Home Services\"\n",
      "Scraping companies for \"Legal Services & Government\"\n",
      "Scraping companies for \"Media & Publishing\"\n",
      "Scraping companies for \"Money & Insurance\"\n",
      "Scraping companies for \"Public & Local Services\"\n",
      "Scraping companies for \"Restaurants & Bars\"\n",
      "Scraping companies for \"Shopping & Fashion\"\n",
      "Scraping companies for \"Sports\"\n",
      "Scraping companies for \"Travel & Vacation\"\n",
      "Scraping companies for \"Utilities\"\n",
      "Scraping companies for \"Vehicles & Transportation\"\n"
     ]
    }
   ],
   "source": [
    "scrap_category_company()"
   ]
  },
  {
   "cell_type": "markdown",
   "id": "945def93",
   "metadata": {},
   "source": [
    "### Summary\n",
    "- I have scraped the website, got data about categories.\n",
    "- In that categories, i scraped information about top company/brands.\n",
    "- Collected informations such as company name, stars, location and tags.\n",
    "- The collected informations are saves in csv files.\n"
   ]
  }
 ],
 "metadata": {
  "kernelspec": {
   "display_name": "Python 3 (ipykernel)",
   "language": "python",
   "name": "python3"
  },
  "language_info": {
   "codemirror_mode": {
    "name": "ipython",
    "version": 3
   },
   "file_extension": ".py",
   "mimetype": "text/x-python",
   "name": "python",
   "nbconvert_exporter": "python",
   "pygments_lexer": "ipython3",
   "version": "3.9.13"
  }
 },
 "nbformat": 4,
 "nbformat_minor": 5
}
